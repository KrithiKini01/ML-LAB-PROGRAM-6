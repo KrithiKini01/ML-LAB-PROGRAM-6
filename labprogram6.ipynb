{
 "cells": [
  {
   "cell_type": "code",
   "execution_count": 22,
   "metadata": {},
   "outputs": [
    {
     "name": "stdout",
     "output_type": "stream",
     "text": [
      "Total instances in the dataset: 18\n"
     ]
    }
   ],
   "source": [
    "import pandas as pd\n",
    "msg = pd.read_csv('labprogram6.csv',names=['message','label'])#tabular form data\n",
    "print('Total instances in the dataset:',msg.shape[0])"
   ]
  },
  {
   "cell_type": "code",
   "execution_count": 23,
   "metadata": {},
   "outputs": [],
   "source": [
    "msg['labelnum'] = msg.label.map({'pos':1,'neg':0})\n",
    "X = msg.message\n",
    "Y = msg.labelnum"
   ]
  },
  {
   "cell_type": "code",
   "execution_count": 24,
   "metadata": {},
   "outputs": [
    {
     "name": "stdout",
     "output_type": "stream",
     "text": [
      "\n",
      "The message and its label of first 5 instances are listed below \n",
      "I love this sandwich , pos\n",
      "This is an amazing place , pos\n",
      "I feel very good about these beers , pos\n",
      "This is my best work , pos\n",
      "What an awesome view , pos\n"
     ]
    }
   ],
   "source": [
    "print('\\nThe message and its label of first 5 instances are listed below ')\n",
    "X5,Y5 = X[0:5],msg.label[0:5]\n",
    "for x,y in zip(X5,Y5):\n",
    "    print(x,',',y)"
   ]
  },
  {
   "cell_type": "code",
   "execution_count": 25,
   "metadata": {},
   "outputs": [
    {
     "name": "stdout",
     "output_type": "stream",
     "text": [
      "\n",
      "Dataset is split into Training and Testing samples\n",
      "Total training instances : 13\n",
      "Total testing instances : 5\n"
     ]
    }
   ],
   "source": [
    "#Splitting the datset into train and test data\n",
    "from sklearn.model_selection import train_test_split\n",
    "xtrain,xtest,ytrain,ytest = train_test_split(X,Y)\n",
    "print('\\nDataset is split into Training and Testing samples')\n",
    "print('Total training instances :',xtrain.shape[0])\n",
    "print('Total testing instances :',xtest.shape[0])"
   ]
  },
  {
   "cell_type": "code",
   "execution_count": 26,
   "metadata": {},
   "outputs": [
    {
     "name": "stdout",
     "output_type": "stream",
     "text": [
      "\n",
      "Total features extracted using CountVectorizer: 47\n"
     ]
    }
   ],
   "source": [
    "#output of count vectoriser is a sparse matrix\n",
    "#CountVectorizer-stands for 'feature extraction'\n",
    "from sklearn.feature_extraction.text import CountVectorizer\n",
    "count_vect = CountVectorizer()\n",
    "xtrain_dtm = count_vect.fit_transform(xtrain)#sparse matrix\n",
    "xtest_dtm = count_vect.transform(xtest)\n",
    "print('\\nTotal features extracted using CountVectorizer:',xtrain_dtm.shape[1])"
   ]
  },
  {
   "cell_type": "code",
   "execution_count": 27,
   "metadata": {},
   "outputs": [
    {
     "name": "stdout",
     "output_type": "stream",
     "text": [
      "\n",
      "Features for first 5 training instances are listed below\n",
      "   about  am  amazing  an  and  awesomeplace  bad  beers  boss  can  ...  \\\n",
      "0      0   0        0   0    0             0    0      0     0    0  ...   \n",
      "1      0   0        0   0    0             0    0      0     0    0  ...   \n",
      "2      0   0        0   0    0             0    0      0     0    0  ...   \n",
      "3      0   0        0   1    0             1    0      0     0    0  ...   \n",
      "4      0   0        0   0    0             0    0      0     0    1  ...   \n",
      "\n",
      "   this  tired  to  today  tomorrow  very  we  went  will  with  \n",
      "0     0      0   1      1         0     0   0     1     0     0  \n",
      "1     0      0   0      0         1     0   1     0     1     0  \n",
      "2     1      0   0      0         0     0   0     0     0     0  \n",
      "3     1      0   0      0         0     0   0     0     0     0  \n",
      "4     1      0   0      0         0     0   0     0     0     1  \n",
      "\n",
      "[5 rows x 47 columns]\n"
     ]
    }
   ],
   "source": [
    "print('\\nFeatures for first 5 training instances are listed below')\n",
    "df = pd.DataFrame(xtrain_dtm.toarray(),columns = count_vect.get_feature_names())\n",
    "print(df[0:5])#tabular representation\n",
    "#print(xtrain_dtm)#same as above but sparse matrix representation"
   ]
  },
  {
   "cell_type": "code",
   "execution_count": 28,
   "metadata": {},
   "outputs": [],
   "source": [
    "#Training Naive Bayes(NB) classifier on training data.\n",
    "from sklearn.naive_bayes import MultinomialNB\n",
    "clf = MultinomialNB().fit(xtrain_dtm,ytrain)\n",
    "predicted = clf.predict(xtest_dtm)"
   ]
  },
  {
   "cell_type": "code",
   "execution_count": 29,
   "metadata": {},
   "outputs": [
    {
     "name": "stdout",
     "output_type": "stream",
     "text": [
      "\n",
      "Classification results of testing samples are given below\n",
      "What a great holiday -> neg\n",
      "He is my sworn enemy -> neg\n",
      "I do not like this restaurant -> neg\n",
      "This is my best work -> neg\n",
      "What an awesome view -> pos\n"
     ]
    }
   ],
   "source": [
    "print('\\nClassification results of testing samples are given below')\n",
    "for doc,p in zip(xtest,predicted):\n",
    "    pred = 'pos' if p == 1 else 'neg'\n",
    "    print('%s -> %s' %(doc,pred))"
   ]
  },
  {
   "cell_type": "code",
   "execution_count": 30,
   "metadata": {},
   "outputs": [
    {
     "name": "stdout",
     "output_type": "stream",
     "text": [
      "\n",
      "Accuracy metrics\n",
      "Accuracy of the classifier is 0.6\n",
      "Recall : 0.3333333333333333 \n",
      "Precision : 1.0\n",
      "Confusion matrix\n",
      "[[2 0]\n",
      " [2 1]]\n"
     ]
    }
   ],
   "source": [
    "#printing accuracy metrics\n",
    "from sklearn import metrics\n",
    "print('\\nAccuracy metrics')\n",
    "print('Accuracy of the classifier is',metrics.accuracy_score(ytest,predicted))\n",
    "print('Recall :',metrics.recall_score(ytest,predicted),\n",
    "      '\\nPrecision :',metrics.precision_score(ytest,predicted))\n",
    "print('Confusion matrix')\n",
    "print(metrics.confusion_matrix(ytest,predicted))"
   ]
  }
 ],
 "metadata": {
  "kernelspec": {
   "display_name": "Python 3",
   "language": "python",
   "name": "python3"
  },
  "language_info": {
   "codemirror_mode": {
    "name": "ipython",
    "version": 3
   },
   "file_extension": ".py",
   "mimetype": "text/x-python",
   "name": "python",
   "nbconvert_exporter": "python",
   "pygments_lexer": "ipython3",
   "version": "3.7.6"
  }
 },
 "nbformat": 4,
 "nbformat_minor": 4
}
